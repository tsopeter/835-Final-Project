{
 "cells": [
  {
   "cell_type": "code",
   "execution_count": 1,
   "metadata": {},
   "outputs": [
    {
     "name": "stderr",
     "output_type": "stream",
     "text": [
      "c:\\Users\\tsope\\AppData\\Local\\Programs\\Python\\Python312\\Lib\\site-packages\\tqdm\\auto.py:21: TqdmWarning: IProgress not found. Please update jupyter and ipywidgets. See https://ipywidgets.readthedocs.io/en/stable/user_install.html\n",
      "  from .autonotebook import tqdm as notebook_tqdm\n"
     ]
    }
   ],
   "source": [
    "import torch\n",
    "from torch.utils.data import Dataset, DataLoader, random_split\n",
    "from sklearn.linear_model import LinearRegression\n",
    "import numpy as np\n",
    "from matplotlib import pyplot as plt\n",
    "from sklearn.metrics import r2_score\n",
    "from Utils import GetDataset, DataLoader2Numpy"
   ]
  },
  {
   "cell_type": "markdown",
   "metadata": {},
   "source": [
    "### Training"
   ]
  },
  {
   "cell_type": "code",
   "execution_count": 7,
   "metadata": {},
   "outputs": [
    {
     "name": "stdout",
     "output_type": "stream",
     "text": [
      "Path to dataset files: C:\\Users\\tsope\\.cache\\kagglehub\\datasets\\juanda220485\\synthetic-dataset-of-speckle-images\\versions\\1\n",
      "MSE: 69.12810516357422\n",
      "RMSE: 8.3143310546875\n",
      "R2: 0.946037232875824\n"
     ]
    }
   ],
   "source": [
    "# Hyperparameters\n",
    "split_ratio = 0.9\n",
    "batch_size  = 1\n",
    "\n",
    "dataset = GetDataset(data_augmentation=False, device=\"cpu\")\n",
    "\n",
    "# Get the total size of the dataset\n",
    "dataset_size = len(dataset)\n",
    "\n",
    "# Calculate sizes for training and validation splits\n",
    "train_size = int(split_ratio * dataset_size)\n",
    "val_size = dataset_size - train_size\n",
    "\n",
    "# Perform the split\n",
    "generator1 = torch.Generator().manual_seed(42)\n",
    "train_dataset, val_dataset = random_split(dataset, [train_size, val_size], generator=generator1)\n",
    "\n",
    "# Create DataLoaders for training and validation\n",
    "train_loader = DataLoader(train_dataset, batch_size=batch_size, shuffle=True )\n",
    "val_loader   = DataLoader(val_dataset  , batch_size=batch_size, shuffle=False)\n",
    "Xt, yt       = DataLoader2Numpy(train_loader)\n",
    "Xv, yv       = DataLoader2Numpy(val_loader)\n",
    "\n",
    "regressor = LinearRegression()\n",
    "regressor.fit(Xt.reshape(Xt.shape[0], np.prod(Xt.shape[1:])), yt)\n",
    "\n",
    "pred = regressor.predict(Xv.reshape(Xv.shape[0], np.prod(Xv.shape[1:])))\n",
    "\n",
    "mse  = ((yv - pred) ** 2).mean()\n",
    "rmse = np.sqrt(mse)\n",
    "r2   = r2_score(yv, pred)\n",
    "\n",
    "print(f'MSE: {mse}')\n",
    "print(f'RMSE: {rmse}')\n",
    "print(f'R2: {r2}')\n"
   ]
  }
 ],
 "metadata": {
  "kernelspec": {
   "display_name": "Python 3",
   "language": "python",
   "name": "python3"
  },
  "language_info": {
   "codemirror_mode": {
    "name": "ipython",
    "version": 3
   },
   "file_extension": ".py",
   "mimetype": "text/x-python",
   "name": "python",
   "nbconvert_exporter": "python",
   "pygments_lexer": "ipython3",
   "version": "3.12.2"
  }
 },
 "nbformat": 4,
 "nbformat_minor": 2
}
